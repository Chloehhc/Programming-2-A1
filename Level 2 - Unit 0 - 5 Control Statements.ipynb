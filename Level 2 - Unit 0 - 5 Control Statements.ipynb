{
 "cells": [
  {
   "cell_type": "markdown",
   "metadata": {},
   "source": [
    "# Control Statements\n",
    "\n",
    "![Hello!](https://media.giphy.com/media/ASd0Ukj0y3qMM/giphy.gif)"
   ]
  },
  {
   "cell_type": "markdown",
   "metadata": {},
   "source": [
    "# Skills\n",
    "* understand if statements\n",
    "* understand why we use elif instead of else in some cases"
   ]
  },
  {
   "cell_type": "markdown",
   "metadata": {},
   "source": [
    "## `if` statements\n",
    "We can branch code using contr\n",
    "ol statements.  \n",
    "We can do that using `if` statements.\n",
    "\n",
    "![Branching from https://programarcadegames.com](http://programarcadegames.com/chapters/03_if_statements/flowchart1_thumb.png)"
   ]
  },
  {
   "cell_type": "code",
   "execution_count": null,
   "metadata": {
    "tags": []
   },
   "outputs": [],
   "source": [
    "# ask the user for two values:\n",
    "# floats are decimal numbers\n",
    "# cast numbers as floats or ints\n",
    "a = float(input('First Value: '))\n",
    "b = float(input('Second Value: '))\n",
    "\n",
    "if a < b: #type of boolean since it is true/false rather than number\n",
    "    print(f'a is less than b')\n",
    "if b < a:\n",
    "    print(f'b is less than a')\n",
    "print(f'Done')"
   ]
  },
  {
   "cell_type": "markdown",
   "metadata": {},
   "source": [
    "## `elif` and `else` "
   ]
  },
  {
   "cell_type": "code",
   "execution_count": null,
   "metadata": {},
   "outputs": [],
   "source": [
    "# get input from user\n",
    "x = float(input('Enter a number: '))\n",
    "\n",
    "if x > 100:\n",
    "    print(f'x is greater than 100')\n",
    "elif x > 50:\n",
    "    print(f'x is greater than 50')\n",
    "elif x > 20:\n",
    "    print(f'x is greater than 20')\n",
    "else:\n",
    "    print(f'x is something')"
   ]
  },
  {
   "cell_type": "markdown",
   "metadata": {},
   "source": [
    "## Booleans\n",
    "\n",
    "**Booleans** are a _**datatype**_.  \n",
    "They are either `True` or `False` in Python.\n",
    "\n",
    "Note:  \n",
    "Know the distinction between `'True'` and `True`  \n",
    "and equally `'False'` and `False`"
   ]
  },
  {
   "cell_type": "markdown",
   "metadata": {},
   "source": [
    "### _Aside: Checking Data Types_\n",
    "\n",
    "If you want to check the type of data, use, the function `type()`."
   ]
  },
  {
   "cell_type": "code",
   "execution_count": null,
   "metadata": {},
   "outputs": [],
   "source": [
    "# reminder that you can check types with type()\n",
    "type(\"True\")"
   ]
  },
  {
   "cell_type": "code",
   "execution_count": null,
   "metadata": {},
   "outputs": [],
   "source": [
    "type(True)"
   ]
  },
  {
   "cell_type": "markdown",
   "metadata": {},
   "source": [
    "### Gotchas --> if statements"
   ]
  },
  {
   "cell_type": "code",
   "execution_count": null,
   "metadata": {},
   "outputs": [],
   "source": [
    "if \"Hello\":\n",
    "    print(\"Something.\")"
   ]
  },
  {
   "cell_type": "code",
   "execution_count": null,
   "metadata": {},
   "outputs": [],
   "source": [
    "if None:\n",
    "    print(\"Something.\")"
   ]
  },
  {
   "cell_type": "code",
   "execution_count": null,
   "metadata": {},
   "outputs": [],
   "source": [
    "num = 3\n",
    "if num == 2 or 4:\n",
    "    print(\"Something.\")"
   ]
  },
  {
   "cell_type": "code",
   "execution_count": null,
   "metadata": {},
   "outputs": [],
   "source": [
    "num = 3\n",
    "if num == 2 or num == 4:\n",
    "    print(\"Something.\")"
   ]
  },
  {
   "cell_type": "markdown",
   "metadata": {},
   "source": [
    "In Python anything that is not:\n",
    "* 0\n",
    "* None\n",
    "* False\n",
    "\n",
    "**IS TRUE**"
   ]
  },
  {
   "cell_type": "markdown",
   "metadata": {},
   "source": [
    "## Boolean Expressions\n",
    "\n",
    "Boolean expressions are operations that evaluate to booleans."
   ]
  },
  {
   "cell_type": "code",
   "execution_count": null,
   "metadata": {},
   "outputs": [],
   "source": [
    "\"False\" == \"False\""
   ]
  },
  {
   "cell_type": "markdown",
   "metadata": {},
   "source": [
    "## Boolean Variables\n",
    "\n",
    "Variables can be booleans as well."
   ]
  },
  {
   "cell_type": "code",
   "execution_count": null,
   "metadata": {},
   "outputs": [],
   "source": [
    "# can name boolean variables with 'is'\n",
    "is_suuny = True\n",
    "\n",
    "if is_suuny:\n",
    "    print(\"You won't need an umbrella.\")"
   ]
  },
  {
   "cell_type": "markdown",
   "metadata": {},
   "source": [
    "## Boolean Operators\n",
    "\n",
    "### Using `not`\n",
    "`not` is a unary operator  \n",
    "You only need **one operand**."
   ]
  },
  {
   "cell_type": "code",
   "execution_count": null,
   "metadata": {},
   "outputs": [],
   "source": [
    "sunny = True\n",
    "if not sunny:\n",
    "    print(\"You might need an umbrella.\")"
   ]
  },
  {
   "cell_type": "code",
   "execution_count": null,
   "metadata": {},
   "outputs": [],
   "source": [
    "age =  15\n",
    "\n",
    "# != means not equal\n",
    "if age != 16: #if age is not equal to 16\n",
    "    print(\"You can't get your N yet.\")"
   ]
  },
  {
   "cell_type": "markdown",
   "metadata": {},
   "source": [
    "### Using `and` and `or`\n",
    "`and` and `or` are binary operators.  \n",
    "You need **two operands** to use them."
   ]
  },
  {
   "cell_type": "code",
   "execution_count": null,
   "metadata": {},
   "outputs": [],
   "source": [
    "have_axe = True\n",
    "have_bow = False\n",
    "\n",
    "if have_axe or have_bow:\n",
    "    print(\"You're ready to fight.\")\n",
    "else:\n",
    "    print(\"You should probably bring a weapon.\")"
   ]
  },
  {
   "cell_type": "code",
   "execution_count": null,
   "metadata": {},
   "outputs": [],
   "source": [
    "have_axe = True\n",
    "have_bow = False\n",
    "\n",
    "if have_axe and have_bow:\n",
    "    print(\"You're ready to fight.\")\n",
    "else:\n",
    "    print(\"You should probably bring a weapon.\")"
   ]
  },
  {
   "cell_type": "markdown",
   "metadata": {},
   "source": [
    "---\n",
    "# Practice Questions"
   ]
  },
  {
   "cell_type": "markdown",
   "metadata": {},
   "source": [
    "## 1. What's missing from this code?"
   ]
  },
  {
   "cell_type": "code",
   "execution_count": null,
   "metadata": {},
   "outputs": [],
   "source": [
    "temperature = int(input(f'Temperature: '))\n",
    "if temperature > 90:\n",
    "    print(f'It is hot outside.')\n",
    "else:\n",
    "    print(f'It is not hot out.')"
   ]
  },
  {
   "cell_type": "markdown",
   "metadata": {},
   "source": [
    "## 2. What do you think this next code will print out?\n",
    "**Before you run the code,** take your best guess as to what it will print out.  \n",
    "Put your guess here:  "
   ]
  },
  {
   "cell_type": "code",
   "execution_count": null,
   "metadata": {},
   "outputs": [],
   "source": [
    "x = 5\n",
    "y = x == 6         #is x = 6? No, so y = false\n",
    "z = x == 5         # is x = 5? Yes, so z = true.\n",
    "print(f'x={x}')    #5\n",
    "print(f'y={y}')    #False \n",
    "print(f'z={z}')    #True\n",
    "if y:\n",
    "    print(f'Fizz') #Will not run\n",
    "if z:\n",
    "    print(f'Buzz') #Buzz will run"
   ]
  },
  {
   "cell_type": "markdown",
   "metadata": {},
   "source": [
    "## 3. What do you think this code will print out?\n",
    "Again, **take an educated guess before running the code.**  \n",
    "Put your answers in inline comments beside the line of code.  \n",
    "There's an example below.\n",
    "If you're guess isn't right, try and figure out why it outputs what it does."
   ]
  },
  {
   "cell_type": "code",
   "execution_count": null,
   "metadata": {},
   "outputs": [],
   "source": [
    "print(\"3\" == \"3\")  #True         \n",
    "print(\" 3\" == \"3\") #False         \n",
    "print(3 < 4)   #True             \n",
    "print(3 < 10)    #True           \n",
    "print(\"3\" < \"4\")   # True        \n",
    "print(\"3\" < \"10\")  # True      \n",
    "print( (2 == 2) == \"True\" ) # TypeError: False, 2 == 2 is True (boolean) but the other is \"True\" (string)\n",
    "print( (2 == 2) == True )   # TypeError: False\n",
    "print(3 < \"3\")   # TypeError: Break, one is num and other is str           "
   ]
  },
  {
   "cell_type": "markdown",
   "metadata": {},
   "source": [
    "---\n",
    "# Exercise\n",
    "\n",
    "Create your own quiz with five or more questions. You can ask questions that require:\n",
    "1. a number as an answer (e.g., What is 1+1?)\n",
    "2. text (e.g. What is Harry Potter's last name?)\n",
    "3. a selection (Which of these choices are correct? A, B, or C?) \n",
    "\n",
    "If you have the user enter non-numeric answers, think and cover the different ways a user could enter a correct answer. For example, if the answer is “a”, would “A” also be acceptable? \n",
    "1. Let the user know if he or she gets the question correct. Print a message depending on the user's answer.\n",
    "2. You need to keep track of how many questions they get correct.\n",
    "3. At the end of the program print the percentage of questions the user gets right. "
   ]
  },
  {
   "cell_type": "code",
   "execution_count": null,
   "metadata": {},
   "outputs": [],
   "source": [
    "# Quiz Game\n",
    "# Author: Chloe Hsieh\n",
    "# Date: Dec. 4, 2020\n",
    "\n",
    "# INTRODUCTION\n",
    "print(f\"Hi, thank you for taking this quiz today!\")\n",
    "print()\n",
    "\n",
    "# COUNTER\n",
    "counter = 0\n",
    "\n",
    "# 1. ASK USER WHAT 10 + 5 IS EQUAL TO\n",
    "# (A number as an answer)\n",
    "number_answer = input(f\"1. Please type your answer: 10 + 5 = \").strip(\"!.,\").lower()\n",
    "\n",
    "# Response to correct answer\n",
    "if number_answer == \"15\" or number_answer == \"fifteen\":\n",
    "    print(f\"You are correct!\")\n",
    "    counter += 1\n",
    "    print(f\"Your score is {counter}\")\n",
    "# Response to incorrect answer\n",
    "else:\n",
    "    print(f\"Unfortunately, that is incorrect.\")\n",
    "print()\n",
    "\n",
    "# 2. ASK USER TO FILL IN THE BLANK FOR BRITISH COLUMBIA\n",
    "# (Text as an answer)\n",
    "last_word_in_bc = (input(f\"2. Please fill in the blank: B.C. is short for British \")).lower().strip(\".,!\")\n",
    "\n",
    "# Response to correct answer\n",
    "if last_word_in_bc == \"columbia\":\n",
    "    print(f\"That's right!\")\n",
    "    counter += 1\n",
    "    print(f\"Your score is {counter}\")\n",
    "# Response to incorrect answer\n",
    "else:\n",
    "    print(f\"I'm afraid that is incorrect.\")\n",
    "print()\n",
    "\n",
    "# 3. ASK USER WHEN WINTER BREAK BEGINS\n",
    "# (Selection as an answer)\n",
    "print(\"3. When does winter break begin?\")\n",
    "print(\"a = August | b = September | c = December\")\n",
    "month = (input(f\"Please type the correct letter: \")).lower().strip(\"!.,\")\n",
    "\n",
    "# Response to correct answer\n",
    "if month == \"c\":\n",
    "    print(f\"Exactly! Winter break does start in December!\")\n",
    "    counter += 1\n",
    "    print(f\"Your score = {counter}\")\n",
    "# Response to incorrect answer\n",
    "else:\n",
    "    print(f\"Sorry, that is incorrect. Winter break starts in December.\")\n",
    "print()\n",
    "\n",
    "# 4. ASK USER WHAT \"Ca\" STANDS FOR IN CHEMISTRY\n",
    "element = (input(\"4. What element is 'Ca' in chemistry? \")).lower().strip(\"!.,\")\n",
    "\n",
    "# Response to correct answer\n",
    "if element == \"calcium\":\n",
    "    print(f\"That is correct, it is calcium!\")\n",
    "    counter += 1\n",
    "    print(f\"Your score is {counter}\")\n",
    "# Response to incorrect answer\n",
    "else:\n",
    "    print(f\"That's not quite right... it should be calcium.\")\n",
    "print()\n",
    "\n",
    "# 5. ASK USER WHAT 15 x 2 IS EQUAL TO\n",
    "number_answer = input(f\"5. Please type your answer: 15 x 2 = \").strip(\"!.,\").lower()\n",
    "\n",
    "# Response to correct answer.\n",
    "if number_answer == \"30\" or number_answer == \"thirty\":\n",
    "    print(f\"Wow! You got it right, it's 30!\")\n",
    "    counter += 1\n",
    "    print(f\"Your score is {counter}\")\n",
    "# Response to incorrect answer.\n",
    "else:\n",
    "    print(f\"No... sorry but it should be 30.\")\n",
    "print()\n",
    "\n",
    "# END OF QUIZ\n",
    "print(\"Thank you for doing this quiz!\")\n",
    "\n",
    "# CALCULATE FINAL SCORE\n",
    "result = ((counter) / 5) * 100\n",
    "# Show user the number of questions correct over total questions\n",
    "print(f\"You scored {counter}/5!\")\n",
    "# Show user the final percentage score\n",
    "print(f\"Your final result is {result}%!\")"
   ]
  },
  {
   "cell_type": "code",
   "execution_count": null,
   "metadata": {},
   "outputs": [],
   "source": [
    "# Example\n",
    "\"The quick brown fox...\".lower().strip(\".\")\n",
    "\"The quick brown fox...\".upper()"
   ]
  },
  {
   "cell_type": "markdown",
   "metadata": {},
   "source": [
    "# Requirements\n",
    "* Has five or more questions \n",
    "* Give the user feedback per question \n",
    "* Keep track of correct answers\n",
    "* Give them their outcome at the end"
   ]
  }
 ],
 "metadata": {
  "kernelspec": {
   "display_name": "Python 3",
   "language": "python",
   "name": "python3"
  },
  "language_info": {
   "codemirror_mode": {
    "name": "ipython",
    "version": 3
   },
   "file_extension": ".py",
   "mimetype": "text/x-python",
   "name": "python",
   "nbconvert_exporter": "python",
   "pygments_lexer": "ipython3",
   "version": "3.8.2"
  }
 },
 "nbformat": 4,
 "nbformat_minor": 4
}
