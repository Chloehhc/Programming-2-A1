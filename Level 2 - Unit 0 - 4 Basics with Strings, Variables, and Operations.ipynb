{
 "cells": [
  {
   "cell_type": "markdown",
   "metadata": {},
   "source": [
    "# Unit 0.4 - Basics\n",
    "## f-strings\n",
    "### What does f stand for?\n",
    "\n",
    "F stands for **fast**."
   ]
  },
  {
   "cell_type": "code",
   "execution_count": null,
   "metadata": {},
   "outputs": [],
   "source": []
  },
  {
   "cell_type": "code",
   "execution_count": null,
   "metadata": {},
   "outputs": [],
   "source": [
    "print(f\"This is an f-string!\")"
   ]
  },
  {
   "cell_type": "markdown",
   "metadata": {},
   "source": [
    "## String Slices"
   ]
  },
  {
   "cell_type": "code",
   "execution_count": null,
   "metadata": {},
   "outputs": [],
   "source": [
    "#        0123456\n",
    "month = \"January\"\n",
    "abbreviation = month[0:3]\n",
    "print(abbreviation)"
   ]
  },
  {
   "cell_type": "code",
   "execution_count": null,
   "metadata": {},
   "outputs": [],
   "source": [
    "month = \"August\"\n",
    "\n",
    "first_part = month[:3]\n",
    "print(first_part)\n",
    "\n",
    "last_part = month[2:]\n",
    "print(last_part)"
   ]
  },
  {
   "cell_type": "code",
   "execution_count": null,
   "metadata": {},
   "outputs": [],
   "source": [
    "numbers = \"123456789\"\n",
    "# [start:stop:step]\n",
    "odd = numbers[::2]\n",
    "print(odd)\n",
    "\n",
    "numbers = \"123456789\"\n",
    "# [start:stop:step]\n",
    "even = numbers[1::2]\n",
    "print(even)"
   ]
  },
  {
   "cell_type": "code",
   "execution_count": null,
   "metadata": {},
   "outputs": [],
   "source": [
    "# can give negative indices (index)\n",
    "numbers = \"123456789\"\n",
    "last_num = numbers[-3]\n",
    "print(last_num)"
   ]
  },
  {
   "cell_type": "markdown",
   "metadata": {},
   "source": [
    "### What kind of brackets can you do operations in?\n",
    "\n",
    "We use {} or **braces** to do operations inside of f-strings.\n",
    "\n",
    "### What's an operation?\n",
    "An operation in this case is any mathmatical operation.  \n",
    "Example:\n",
    "\n",
    "#### Using the Math Module\n",
    "We can import the Math module to help us calculate things\n",
    "\n",
    "https://docs.python.org/3/library/math.html\n"
   ]
  },
  {
   "cell_type": "code",
   "execution_count": null,
   "metadata": {},
   "outputs": [],
   "source": [
    "name = \"John\"\n",
    "print(f\"Hello {name}.\")"
   ]
  },
  {
   "cell_type": "code",
   "execution_count": null,
   "metadata": {},
   "outputs": [],
   "source": [
    "# print(1 + 1)\n",
    "\n",
    "import math\n",
    "print(math.sin(0))\n",
    "print(f\"The GCD of 10 and 688 is {math.gcd(10, 688)}\")"
   ]
  },
  {
   "cell_type": "markdown",
   "metadata": {},
   "source": [
    "## Escape Codes"
   ]
  },
  {
   "cell_type": "markdown",
   "metadata": {},
   "source": [
    "Note: To mass comment out code, press command+forward slash"
   ]
  },
  {
   "cell_type": "code",
   "execution_count": null,
   "metadata": {},
   "outputs": [],
   "source": [
    "# \\ <- escape sequence\n",
    "print(\"One line.\")\n",
    "print(\"Second line.\")\n",
    "\n",
    "#print(\"One line.\\nSecond line.\")\n",
    "\n",
    "# \\t\n",
    "print(\"Item\\tItem\\tItem\")\n",
    "print(\"1.\\t2.\\t3.\\t\")\n",
    "\n",
    "# \\\" - inserts a literal double quote\n",
    "print(\"The boy said, \\\"Hello!\\\"\")"
   ]
  },
  {
   "cell_type": "markdown",
   "metadata": {},
   "source": [
    "## Variables"
   ]
  },
  {
   "cell_type": "code",
   "execution_count": null,
   "metadata": {},
   "outputs": [],
   "source": [
    "message = \"Your time is up.\"\n",
    "\n",
    "# How do you properly name variables\n",
    "# Should start with a lower-case letter\n",
    "name = \"Jonas\"\n",
    "age = 2\n",
    "# if you need a space, use an underscore\n",
    "date_of_birth = \"January 24\"\n",
    "dateOfBirth = \"January 24\" # don't use this in python\n",
    "dob = \"January 24\"         # don't do this, be as descriptive as possible\n",
    "\n",
    "# Constants (values that won't change) should be in ALL CAPS\n",
    "SCREEN_WIDTH = 1024\n",
    "SCREEN_HEIGHT = 768\n",
    "\n",
    "# You can use numbers in names (but do not start variables with numbers)\n",
    "number_of_2s = 28"
   ]
  },
  {
   "cell_type": "markdown",
   "metadata": {},
   "source": [
    "## Reassignment"
   ]
  },
  {
   "cell_type": "code",
   "execution_count": null,
   "metadata": {},
   "outputs": [],
   "source": [
    "bruces_age = 5\n",
    "print(bruces_age)\n",
    "bruces_age = 7\n",
    "print(bruces_age)"
   ]
  },
  {
   "cell_type": "code",
   "execution_count": null,
   "metadata": {},
   "outputs": [],
   "source": [
    "a = 5\n",
    "b = a #(5)\n",
    "a = 10\n",
    "print(b)"
   ]
  },
  {
   "cell_type": "markdown",
   "metadata": {},
   "source": [
    "# Updating Variables"
   ]
  },
  {
   "cell_type": "code",
   "execution_count": null,
   "metadata": {},
   "outputs": [],
   "source": [
    "counter = 0\n",
    "print(counter)\n",
    "counter = counter + 1\n",
    "print(counter)\n",
    "counter += 1 # increment operator (shortcut)\n",
    "print(counter)\n",
    "counter *= 6\n",
    "print(counter)\n",
    "counter /= 6\n",
    "print(counter)"
   ]
  },
  {
   "cell_type": "markdown",
   "metadata": {},
   "source": [
    "## Datatypes\n",
    "### What are some datatypes that we've seen?"
   ]
  },
  {
   "cell_type": "code",
   "execution_count": null,
   "metadata": {},
   "outputs": [],
   "source": [
    "# String\n",
    "my_name = \"Chloe\"\n",
    "# f-strings\n",
    "my_last_name = f\"Hsieh\"\n",
    "\n",
    "# print(my_name)\n",
    "# print(my_last_name)\n",
    "\n",
    "# OTHER DATATYPES\n",
    "12                 # number -> integer (whole)\n",
    "12.0               # number -> float\n",
    "True               # boolean values\n",
    "False              # boolean values\n",
    "[1, 2, 3, 4]       # list\n",
    "[\"1\", \"2\"]\n",
    "[1, \"one\"]\n",
    "{\"name\": \"Chloe\"}  # dictionary (like a list)\n",
    "\n",
    "# e.g.\n",
    "student = {\n",
    "    \"name\": \"Paul\", \n",
    "    \"student number\": 1234,\n",
    "    \"a-block\": \"Chemistry 12\"\n",
    "}\n",
    "print(student[\"a-block\"])"
   ]
  },
  {
   "cell_type": "markdown",
   "metadata": {},
   "source": [
    "### Casting\n",
    "What do we do to force Python to look at a string like it's a number?"
   ]
  },
  {
   "cell_type": "code",
   "execution_count": null,
   "metadata": {},
   "outputs": [],
   "source": [
    "age = \"16\"\n",
    "# add 5 to the age\n",
    "\n",
    "# use a cast to force a value into another type\n",
    "new_age = int(age) + 5\n",
    "print(new_age)\n",
    "\n",
    "new_age = age + str(5)\n",
    "print(new_age)"
   ]
  },
  {
   "cell_type": "code",
   "execution_count": null,
   "metadata": {},
   "outputs": [],
   "source": [
    "# type() function\n",
    "age = 16.\n",
    "type(age)"
   ]
  },
  {
   "cell_type": "markdown",
   "metadata": {},
   "source": [
    "# Statements and Expressions\n",
    "\n",
    "Statement is an instruction that Python can execute.  \n",
    "> Assignment (when we assign a value to a variable) is a **statement**.\n",
    "\n",
    "> e.g. `date_of_birth = \"January 22\"`\n",
    "\n",
    "An **expression** is a statement that MUST BE EVALUATED.\n",
    "> e.g. `date_of_birth_and_year = date_of_birth + \"2020\"`"
   ]
  },
  {
   "cell_type": "markdown",
   "metadata": {},
   "source": [
    "# Order of Operations\n",
    "\n",
    "BEDMAS\n",
    "1. Brackets\n",
    "2. Exponents\n",
    "3. Division and Multiplication\n",
    "4. The rest\n",
    "\n",
    "Evaluates from left-to-right (left-associative)"
   ]
  },
  {
   "cell_type": "code",
   "execution_count": null,
   "metadata": {},
   "outputs": [],
   "source": [
    "# Exponents **\n",
    "squared = 2 ** 2 # (2^2)\n",
    "# print(squared)\n",
    "\n",
    "# Floor division // (gives the result in an int)\n",
    "division_result = 7 / 4\n",
    "# print(division_result)\n",
    "\n",
    "division_result = 7 // 4 # // means rounds down\n",
    "# print(division_result)\n",
    "\n",
    "# Find the remainder -- Modulo\n",
    "remainder = 8 % 5 \n",
    "# print(remainder)\n",
    "\n",
    "# Modulo application\n",
    "# Find out if 14967855 is divisible by 7\n",
    "remainder = 14967855 % 7 # if result is 0 == divisible\n",
    "print(remainder)"
   ]
  },
  {
   "cell_type": "markdown",
   "metadata": {},
   "source": [
    "## Input\n",
    "### How do we get input from a user?"
   ]
  },
  {
   "cell_type": "code",
   "execution_count": null,
   "metadata": {},
   "outputs": [],
   "source": [
    "# Use the input() function\n",
    "your_name = input(f\"What\\'s your name? \")\n",
    "print(your_name)"
   ]
  },
  {
   "cell_type": "markdown",
   "metadata": {},
   "source": [
    "---\n",
    "# Assignment\n",
    "For each of these programs, be sure to put in the header _(Title, Author, Date)_.\n",
    "## Create a program that asks the user for a temperature in Fahrenheit, and then prints the temperature in Celsius.\n",
    "The formula for conversion is:  \n",
    "`C = (F − 32) × 5/9 `"
   ]
  },
  {
   "cell_type": "code",
   "execution_count": null,
   "metadata": {},
   "outputs": [],
   "source": [
    "# Fahrenheit to Celsius\n",
    "# Author: Ubial\n",
    "# Date: 7 February\n",
    "\n",
    "# Get temperature from user in Celsius\n",
    "temp_in_fahrenheit = input(f'Please give the temperature in Fahrenheit to convert: ')\n",
    "\n",
    "# Make the calculation\n",
    "temp_in_celsius = (float(temp_in_fahrenheit) - 32) * 5 / 9\n",
    "\n",
    "# Tell the user the conversion\n",
    "print(f'{temp_in_fahrenheit} deg F is {temp_in_celsius} deg C.')"
   ]
  },
  {
   "cell_type": "markdown",
   "metadata": {},
   "source": [
    "## Create a program that takes the radius of a circle and calculates its area.\n",
    "The formula to calculate the area is:  \n",
    "`A = pi * r ^ 2`  \n",
    "Note:  \n",
    "In order to use pi, **import the math module**.  \n",
    "It has the constant, pi, that you can use.\n",
    "You can use it by using `math.pi`."
   ]
  },
  {
   "cell_type": "code",
   "execution_count": null,
   "metadata": {},
   "outputs": [],
   "source": [
    "# Calculate Area of Circle\n",
    "# Author: Ubial\n",
    "# Date: 7 Feb 2019\n",
    "\n",
    "import math\n",
    "\n",
    "# Get the radius from user\n",
    "radius = input(f'Enter the radius: ')\n",
    "area = math.pi * float(radius) ** 2\n",
    "\n",
    "# Print the result\n",
    "print(f'The area of the circle is {area} square units.')"
   ]
  },
  {
   "cell_type": "markdown",
   "metadata": {},
   "source": [
    "## Create a program that tells a three jokes.\n",
    "Each of the jokes needs to interact with the user."
   ]
  },
  {
   "cell_type": "code",
   "execution_count": null,
   "metadata": {},
   "outputs": [],
   "source": [
    "# Comedian Bot\n",
    "# Author: Ubial\n",
    "# Date: 7 Feb 2019"
   ]
  },
  {
   "cell_type": "markdown",
   "metadata": {},
   "source": [
    "# Practice"
   ]
  },
  {
   "cell_type": "markdown",
   "metadata": {},
   "source": [
    "### Celsius to Fahrenheit"
   ]
  },
  {
   "cell_type": "markdown",
   "metadata": {},
   "source": [
    "Formula for Conversion:  \n",
    "`(C × 9/5) + 32 = F`"
   ]
  },
  {
   "cell_type": "code",
   "execution_count": null,
   "metadata": {},
   "outputs": [],
   "source": [
    "# Celsius to Fahrenheit\n",
    "# Author: Chloe Hsieh\n",
    "# Date: 20 Nov 2020\n",
    "\n",
    "# User imput temperature in celsius\n",
    "temp_celsius = input(f\"Please type in the degree celsius you would like to conver to fahrenheit: \")\n",
    "\n",
    "# Make calculation\n",
    "temp_fahrenheit = (float(temp_celsius)*(9/5))+32 \n",
    "\n",
    "# Print temperature in fahrenheit\n",
    "print(f\"The temperature in fahrenheit is {temp_fahrenheit} degrees.\")"
   ]
  },
  {
   "cell_type": "markdown",
   "metadata": {},
   "source": [
    "### Order of Operations"
   ]
  },
  {
   "cell_type": "markdown",
   "metadata": {},
   "source": [
    "Evaluate the following expression using proper order of operations used in Python.  \n",
    "`2+(3-1)*10/5*(2+3)`"
   ]
  },
  {
   "cell_type": "code",
   "execution_count": null,
   "metadata": {},
   "outputs": [],
   "source": [
    "# Order of Operations\n",
    "# Author: Chloe Hsieh\n",
    "# Date: 20 Nov 2020\n",
    "\n",
    "# Use order of operations (python goes left to right)\n",
    "answer = (3-1)*10/5*(2+3)+2 \n",
    "\n",
    "# Print answer\n",
    "print(answer)"
   ]
  },
  {
   "cell_type": "markdown",
   "metadata": {},
   "source": [
    "### Translating Time and Alarms  \n",
    "  \n",
    "Problem: In Europe, tiime is generally told using the 24h clock (e.g. 11:00pm, 00:00 is midnight). Using this standard of time, if it is 13:00 and you set your alrm to go off in 50 hours, it will be 15:00 (3:00pm).  \n",
    "\n",
    "Write a Python program in the code cell below to solve the general version of the above problem. Ask the user for the time now (in hours), and then ask for the number of hours to wait for the alarm. Your program should output what the time will be on the clock and when the alarm goes off."
   ]
  },
  {
   "cell_type": "code",
   "execution_count": 7,
   "metadata": {},
   "outputs": [
    {
     "name": "stdin",
     "output_type": "stream",
     "text": [
      "Please type in the current time in hours:  15\n",
      "Please type in how many hours you would like to wait for the alarm:  20\n"
     ]
    },
    {
     "name": "stdout",
     "output_type": "stream",
     "text": [
      "Your alarm will go off at 11:00.\n"
     ]
    }
   ],
   "source": [
    "# Set Alarm\n",
    "# Author: Chloe Hsieh\n",
    "# Date: 20 Nov 2020\n",
    "\n",
    "# Ask user what the current time in hours is.\n",
    "user_time = int(input(f\"Please type in the current time in hours: \"))\n",
    "\n",
    "# Ask user how many hours to wait for alarm.\n",
    "wait_time = int(input(f\"Please type in how many hours you would like to wait for the alarm: \"))\n",
    "\n",
    "# Calculate the alarm time.\n",
    "alarm_time = (user_time + wait_time) % 24\n",
    "\n",
    "# Print the alarm time.\n",
    "print(f\"Your alarm will go off at {alarm_time}:00.\")"
   ]
  },
  {
   "cell_type": "markdown",
   "metadata": {},
   "source": [
    "### String Work  \n",
    "Take the sentence: _All work and no play makes Jack a dull boy._ Store each word in a seperate variable, then print out the sentence on one line using `print`."
   ]
  },
  {
   "cell_type": "code",
   "execution_count": 22,
   "metadata": {},
   "outputs": [
    {
     "name": "stdout",
     "output_type": "stream",
     "text": [
      "All work and no play makes Jack a dull boy.\n",
      "All work and no play makes Jack a dull boy\n"
     ]
    }
   ],
   "source": [
    "# String Work\n",
    "# Author: Chloe Hsieh\n",
    "# Date: 30 Nov. 2020\n",
    "\n",
    "# variables\n",
    "one = \"All\"\n",
    "two = \"work\"\n",
    "three = \"and\"\n",
    "four = \"no\"\n",
    "five = \"play\"\n",
    "six = \"makes\"\n",
    "seven = \"Jack\"\n",
    "eight = \"a\"\n",
    "nine = \"dull\"\n",
    "ten = \"boy\"\n",
    "\n",
    "# print\n",
    "print(f\"{one} {two} {three} {four} {five} {six} {seven} {eight} {nine} {ten}.\")\n",
    "# or\n",
    "print(one, two, three, four, five, six, seven, eight, nine, ten)"
   ]
  },
  {
   "cell_type": "markdown",
   "metadata": {},
   "source": [
    "### Compound Interest  \n",
    "Write a Python program that has a ***principal amount of 15000, compounds monthly*** (n = 12), and has an ***interest rate of 8%*** (0.08). Then have a program ask the user for the number of years, t. Calculate and print the final amount after t years.\n",
    "\n",
    "https://slack-imgs.com/?c=1&o1=ro&url=http%3A%2F%2Fwww.ourpursuitofperfection.com%2Fwp-content%2Fuploads%2F2017%2F06%2Fcompound-interest-formula-diagram.png"
   ]
  },
  {
   "cell_type": "code",
   "execution_count": 16,
   "metadata": {},
   "outputs": [
    {
     "name": "stdin",
     "output_type": "stream",
     "text": [
      "Please type in number of years to compound:  2\n"
     ]
    },
    {
     "name": "stdout",
     "output_type": "stream",
     "text": [
      "The final amount is $15000.0.\n"
     ]
    }
   ],
   "source": [
    "# Compound Interest\n",
    "# Author: Chloe Hsieh\n",
    "# Date: 30 Nov. 2020\n",
    "\n",
    "# Ask user for number of years\n",
    "time = float(input(f\"Please type in number of years to compound: \"))\n",
    "\n",
    "# Calculate the final amount\n",
    "principal = 15000\n",
    "num_of_compounds = 12\n",
    "interest_rate = .08\n",
    "\n",
    "amount = principal*((1+(interest_rate/num_of_compounds)**(num_of_compounds*(time))))\n",
    "print(f\"The final amount is ${amount}.\") #error"
   ]
  },
  {
   "cell_type": "code",
   "execution_count": null,
   "metadata": {},
   "outputs": [],
   "source": []
  }
 ],
 "metadata": {
  "kernelspec": {
   "display_name": "Python 3",
   "language": "python",
   "name": "python3"
  },
  "language_info": {
   "codemirror_mode": {
    "name": "ipython",
    "version": 3
   },
   "file_extension": ".py",
   "mimetype": "text/x-python",
   "name": "python",
   "nbconvert_exporter": "python",
   "pygments_lexer": "ipython3",
   "version": "3.8.2"
  }
 },
 "nbformat": 4,
 "nbformat_minor": 4
}
